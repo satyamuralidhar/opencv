{
 "cells": [
  {
   "cell_type": "code",
   "execution_count": 1,
   "metadata": {},
   "outputs": [
    {
     "name": "stderr",
     "output_type": "stream",
     "text": [
      "Using TensorFlow backend.\n"
     ]
    }
   ],
   "source": [
    "import keras\n",
    "from keras.preprocessing import sequence\n",
    "from keras.models import Sequential\n",
    "from keras.layers import Dense, Embedding, SimpleRNN\n",
    "from keras.datasets import imdb\n",
    "from keras import initializers "
   ]
  },
  {
   "cell_type": "code",
   "execution_count": 7,
   "metadata": {},
   "outputs": [],
   "source": [
    "max_features=20000\n",
    "max_len=30\n",
    "batch_size=32"
   ]
  },
  {
   "cell_type": "code",
   "execution_count": 5,
   "metadata": {},
   "outputs": [
    {
     "name": "stdout",
     "output_type": "stream",
     "text": [
      "25000 train sequences\n",
      "25000 test sequences\n"
     ]
    }
   ],
   "source": [
    "(x_train,y_train), (x_test,y_test)=imdb.load_data(num_words=max_features)\n",
    "print(len(x_train), 'train sequences')\n",
    "print(len(x_test), 'test sequences')"
   ]
  },
  {
   "cell_type": "code",
   "execution_count": 9,
   "metadata": {},
   "outputs": [
    {
     "name": "stdout",
     "output_type": "stream",
     "text": [
      "x_train shape: (25000, 30)\n",
      "x_test shape: (25000, 30)\n"
     ]
    }
   ],
   "source": [
    "x_train=sequence.pad_sequences(x_train,maxlen=max_len)\n",
    "x_test=sequence.pad_sequences(x_test,maxlen=max_len)\n",
    "print('x_train shape:',x_train.shape)\n",
    "print('x_test shape:',x_test.shape)"
   ]
  },
  {
   "cell_type": "code",
   "execution_count": 12,
   "metadata": {},
   "outputs": [
    {
     "data": {
      "text/plain": [
       "array([ 766,    5,  203,   73,   28,   43,   77,  317,   11,    4,    2,\n",
       "        953,  270,   17,    6, 3616,   13,  545,  386,   25,   92, 1142,\n",
       "        129,  278,   23,   14,  241,   46,    7,  158])"
      ]
     },
     "execution_count": 12,
     "metadata": {},
     "output_type": "execute_result"
    }
   ],
   "source": [
    "x_train[100,:]"
   ]
  },
  {
   "cell_type": "code",
   "execution_count": 13,
   "metadata": {},
   "outputs": [
    {
     "name": "stderr",
     "output_type": "stream",
     "text": [
      "WARNING: Logging before flag parsing goes to stderr.\n",
      "W0816 21:34:38.601541 11280 deprecation_wrapper.py:119] From C:\\Users\\admin\\Anaconda3\\lib\\site-packages\\keras\\backend\\tensorflow_backend.py:74: The name tf.get_default_graph is deprecated. Please use tf.compat.v1.get_default_graph instead.\n",
      "\n",
      "W0816 21:34:39.265579 11280 deprecation_wrapper.py:119] From C:\\Users\\admin\\Anaconda3\\lib\\site-packages\\keras\\backend\\tensorflow_backend.py:517: The name tf.placeholder is deprecated. Please use tf.compat.v1.placeholder instead.\n",
      "\n",
      "W0816 21:34:39.444590 11280 deprecation_wrapper.py:119] From C:\\Users\\admin\\Anaconda3\\lib\\site-packages\\keras\\backend\\tensorflow_backend.py:4138: The name tf.random_uniform is deprecated. Please use tf.random.uniform instead.\n",
      "\n",
      "W0816 21:34:39.574597 11280 deprecation_wrapper.py:119] From C:\\Users\\admin\\Anaconda3\\lib\\site-packages\\keras\\backend\\tensorflow_backend.py:4115: The name tf.random_normal is deprecated. Please use tf.random.normal instead.\n",
      "\n"
     ]
    }
   ],
   "source": [
    "rnn_hidden_dim=5\n",
    "word_embedding_dim=50\n",
    "model_rnn=Sequential()\n",
    "model_rnn.add(Embedding(max_features, word_embedding_dim))\n",
    "model_rnn.add(SimpleRNN(rnn_hidden_dim,\n",
    "                        kernel_initializer=initializers.RandomNormal(stddev=0.001),\n",
    "                        recurrent_initializer=initializers.Identity(gain=1.0),\n",
    "                        activation='relu',\n",
    "                        input_shape=x_train.shape[1:]\n",
    "                       ))\n",
    "model_rnn.add(Dense(1,activation='sigmoid'))"
   ]
  },
  {
   "cell_type": "code",
   "execution_count": 15,
   "metadata": {},
   "outputs": [
    {
     "name": "stdout",
     "output_type": "stream",
     "text": [
      "_________________________________________________________________\n",
      "Layer (type)                 Output Shape              Param #   \n",
      "=================================================================\n",
      "embedding_1 (Embedding)      (None, None, 50)          1000000   \n",
      "_________________________________________________________________\n",
      "simple_rnn_1 (SimpleRNN)     (None, 5)                 280       \n",
      "_________________________________________________________________\n",
      "dense_1 (Dense)              (None, 1)                 6         \n",
      "=================================================================\n",
      "Total params: 1,000,286\n",
      "Trainable params: 1,000,286\n",
      "Non-trainable params: 0\n",
      "_________________________________________________________________\n"
     ]
    }
   ],
   "source": [
    "model_rnn.summary()"
   ]
  },
  {
   "cell_type": "code",
   "execution_count": 17,
   "metadata": {},
   "outputs": [
    {
     "name": "stderr",
     "output_type": "stream",
     "text": [
      "W0816 21:36:57.748500 11280 deprecation_wrapper.py:119] From C:\\Users\\admin\\Anaconda3\\lib\\site-packages\\keras\\optimizers.py:790: The name tf.train.Optimizer is deprecated. Please use tf.compat.v1.train.Optimizer instead.\n",
      "\n",
      "W0816 21:36:57.753501 11280 deprecation_wrapper.py:119] From C:\\Users\\admin\\Anaconda3\\lib\\site-packages\\keras\\backend\\tensorflow_backend.py:3376: The name tf.log is deprecated. Please use tf.math.log instead.\n",
      "\n",
      "W0816 21:36:57.758501 11280 deprecation.py:323] From C:\\Users\\admin\\Anaconda3\\lib\\site-packages\\tensorflow\\python\\ops\\nn_impl.py:180: add_dispatch_support.<locals>.wrapper (from tensorflow.python.ops.array_ops) is deprecated and will be removed in a future version.\n",
      "Instructions for updating:\n",
      "Use tf.where in 2.0, which has the same broadcast rule as np.where\n"
     ]
    }
   ],
   "source": [
    "rmsprop=keras.optimizers.RMSprop(lr=.0001)\n",
    "\n",
    "model_rnn.compile(loss='binary_crossentropy',\n",
    "                 optimizer=rmsprop,\n",
    "                 metrics=['accuracy'])"
   ]
  },
  {
   "cell_type": "code",
   "execution_count": 19,
   "metadata": {},
   "outputs": [
    {
     "name": "stdout",
     "output_type": "stream",
     "text": [
      "Train on 25000 samples, validate on 25000 samples\n",
      "Epoch 1/10\n",
      "25000/25000 [==============================] - 15s 616us/step - loss: 0.6558 - acc: 0.6224 - val_loss: 0.6032 - val_acc: 0.6917\n",
      "Epoch 2/10\n",
      "25000/25000 [==============================] - 14s 544us/step - loss: 0.5545 - acc: 0.7277 - val_loss: 0.5375 - val_acc: 0.7284\n",
      "Epoch 3/10\n",
      "25000/25000 [==============================] - 14s 546us/step - loss: 0.4911 - acc: 0.7677 - val_loss: 0.5067 - val_acc: 0.7484\n",
      "Epoch 4/10\n",
      "25000/25000 [==============================] - 14s 556us/step - loss: 0.4510 - acc: 0.7924 - val_loss: 0.4859 - val_acc: 0.7578\n",
      "Epoch 5/10\n",
      "25000/25000 [==============================] - 14s 556us/step - loss: 0.4217 - acc: 0.8077 - val_loss: 0.4653 - val_acc: 0.7733\n",
      "Epoch 6/10\n",
      "25000/25000 [==============================] - 14s 566us/step - loss: 0.4002 - acc: 0.8194 - val_loss: 0.4528 - val_acc: 0.7826\n",
      "Epoch 7/10\n",
      "25000/25000 [==============================] - 14s 548us/step - loss: 0.3845 - acc: 0.8277 - val_loss: 0.4490 - val_acc: 0.7847\n",
      "Epoch 8/10\n",
      "25000/25000 [==============================] - 14s 559us/step - loss: 0.3731 - acc: 0.8338 - val_loss: 0.4462 - val_acc: 0.7876\n",
      "Epoch 9/10\n",
      "25000/25000 [==============================] - 14s 558us/step - loss: 0.3641 - acc: 0.8380 - val_loss: 0.4442 - val_acc: 0.7908\n",
      "Epoch 10/10\n",
      "25000/25000 [==============================] - 14s 548us/step - loss: 0.3572 - acc: 0.8431 - val_loss: 0.4461 - val_acc: 0.7916\n"
     ]
    },
    {
     "data": {
      "text/plain": [
       "<keras.callbacks.History at 0x1fe66f28>"
      ]
     },
     "execution_count": 19,
     "metadata": {},
     "output_type": "execute_result"
    }
   ],
   "source": [
    "model_rnn.fit(x_train, y_train, batch_size=batch_size,\n",
    "             epochs=10,validation_data=(x_test,y_test))"
   ]
  },
  {
   "cell_type": "code",
   "execution_count": 20,
   "metadata": {},
   "outputs": [
    {
     "name": "stdout",
     "output_type": "stream",
     "text": [
      "25000/25000 [==============================] - 1s 47us/step\n",
      "Test score:  0.44605511506080625\n",
      "Test accuracy:  0.79164\n"
     ]
    }
   ],
   "source": [
    "score, acc=model_rnn.evaluate(x_test,y_test,batch_size=batch_size)\n",
    "print('Test score: ', score)\n",
    "print('Test accuracy: ', acc)\n"
   ]
  }
 ],
 "metadata": {
  "kernelspec": {
   "display_name": "Python 3",
   "language": "python",
   "name": "python3"
  },
  "language_info": {
   "codemirror_mode": {
    "name": "ipython",
    "version": 3
   },
   "file_extension": ".py",
   "mimetype": "text/x-python",
   "name": "python",
   "nbconvert_exporter": "python",
   "pygments_lexer": "ipython3",
   "version": "3.7.3"
  }
 },
 "nbformat": 4,
 "nbformat_minor": 2
}
